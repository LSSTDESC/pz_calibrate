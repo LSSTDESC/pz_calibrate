{
 "cells": [
  {
   "cell_type": "code",
   "execution_count": 1,
   "metadata": {},
   "outputs": [],
   "source": [
    "%matplotlib inline\n",
    "import numpy as np\n",
    "import matplotlib.pyplot as plt\n",
    "\n",
    "from numpy import vectorize\n",
    "\n",
    "import GCRCatalogs\n",
    "from GCR import GCRQuery"
   ]
  },
  {
   "cell_type": "code",
   "execution_count": 2,
   "metadata": {},
   "outputs": [
    {
     "name": "stdout",
     "output_type": "stream",
     "text": [
      "GCRCatalogs = 0.10.0 | GCR = 0.8.7\n"
     ]
    }
   ],
   "source": [
    "print('GCRCatalogs =', GCRCatalogs.__version__, '|' ,'GCR =', GCRCatalogs.GCR.__version__)"
   ]
  },
  {
   "cell_type": "code",
   "execution_count": 3,
   "metadata": {},
   "outputs": [],
   "source": [
    "bin_edges = np.concatenate(\n",
    "    [np.arange(0.60, 1.95, 0.1),\n",
    "     [2.02, 2.22, 2.34, 2.52, 2.66,\n",
    "      2.84, 2.98, 3.16, 3.30, 3.48,\n",
    "      3.62, 3.78, 3.94, 4.10]])\n",
    "delta_zs = bin_edges[1:] - bin_edges[:-1]\n",
    "# Initial density values are in units, N / (deg^2 dz)\n",
    "# hence multiplying by the redshift bin width.\n",
    "ELG_density = np.array( # units: N / degree^2\n",
    "    [ 309, 2269, 1923, 2094, 1441, 1353,  523,  466,\n",
    "      329,  126,    0,    0, 0,    0,    0,    0,\n",
    "        0,    0,    0,    0, 0,    0,    0,    0,\n",
    "        0,    0,    0]) * delta_zs\n",
    "QSO_density = np.array(# units: N / degree^2\n",
    "    [47, 55, 61, 67, 72, 76, 80, 83,\n",
    "     85, 87, 87, 87, 86, 82, 69, 53,\n",
    "     43, 37, 31, 26, 21, 16, 13,  9,\n",
    "      7,  5,  3]) * delta_zs"
   ]
  },
  {
   "cell_type": "code",
   "execution_count": 4,
   "metadata": {},
   "outputs": [
    {
     "name": "stdout",
     "output_type": "stream",
     "text": [
      "[0.25 0.35 0.45 0.55 0.65 0.75 0.85 0.95 1.05 1.15 1.25]\n"
     ]
    }
   ],
   "source": [
    "lrg_density = np.loadtxt(\n",
    "    '/global/projecta/projectdirs/lsst/groups/PZ/PhotoZDC2/protoDC2v5/DESI_reference_redshifts/'\n",
    "    'lrg_densities_20180725.txt')\n",
    "lrg_smoothed_bin_edges = np.arange(0.25, 1.26, 0.1)\n",
    "print(lrg_smoothed_bin_edges)\n",
    "lrg_smoothed_densities = np.zeros(len(lrg_smoothed_bin_edges) - 1)\n",
    "for bin_idx in range(10):\n",
    "    lrg_smoothed_densities[bin_idx] = lrg_density[\n",
    "        10*bin_idx:10 * (bin_idx + 1), 2].sum()"
   ]
  },
  {
   "cell_type": "code",
   "execution_count": 5,
   "metadata": {},
   "outputs": [],
   "source": [
    "catalog = GCRCatalogs.load_catalog('cosmoDC2_v1.1.4_small')"
   ]
  },
  {
   "cell_type": "code",
   "execution_count": 6,
   "metadata": {},
   "outputs": [],
   "source": [
    "def qsoness(mass, ratio):\n",
    "    \"\"\"Simple variable identifying how qso like an object is.\n",
    "    \n",
    "    Parameters\n",
    "    ----------\n",
    "    mass : `float`\n",
    "        Black hole mass\n",
    "    ratio : `float`\n",
    "        Black hole eddington ratio\n",
    "        \n",
    "    Returns\n",
    "    -------\n",
    "    qsoness : `float`\n",
    "        Simple multication of mass * ratio.\n",
    "    \"\"\"\n",
    "    return mass * ratio"
   ]
  },
  {
   "cell_type": "code",
   "execution_count": 7,
   "metadata": {},
   "outputs": [],
   "source": [
    "catalog.add_derived_quantity('qsoness', qsoness, 'blackHoleMass', 'blackHoleEddingtonRatio')"
   ]
  },
  {
   "cell_type": "code",
   "execution_count": 8,
   "metadata": {},
   "outputs": [],
   "source": [
    "def create_redshift_stellar_prop_selection(z_bin_mins,\n",
    "                                           z_bin_maxes,\n",
    "                                           goal_number_densities,\n",
    "                                           mag_name='mag_r_lsst',\n",
    "                                           mag_lim=23.4,\n",
    "                                           not_columns=None,\n",
    "                                           selection='qsoness'):\n",
    "    \"\"\"Compute star formation rate or stellar mass cuts in redshifts bins given a\n",
    "    set of bin edges and expected densities.\n",
    "    \n",
    "    Paramters\n",
    "    ---------\n",
    "    z_bin_mins : `float` array-like\n",
    "        Minimum bin redshifts.\n",
    "    z_bin_maxes : `float` array-like\n",
    "        Maximum bin redshifts.\n",
    "    goal_number_densities : `float` array-like\n",
    "        Number of expected objects per redshift bin. Should be in units counts.\n",
    "    mag_name : `str`\n",
    "        Name of the magnitude column to cut on.\n",
    "    mag_lim : `float`\n",
    "        Maximum value of the magnitude obseved in mag_name.\n",
    "    not_columns : `dict`\n",
    "        Dictionary of float arrays from a pervious selection run in this method.\n",
    "    selection : `string`\n",
    "        Column to select stellar properites. Valid choices are stellar_mass and\n",
    "        totalStarFormationRation.\n",
    "        \n",
    "    Returns\n",
    "    -------\n",
    "    output : `dict`\n",
    "        Dictionary of bin edges.\n",
    "    \"\"\"\n",
    "    \n",
    "    columns = [mag_name, 'redshift', selection]\n",
    "    \n",
    "    #Pre-cut selections. Magnitude cut avoids duplication of objects from the DESI\n",
    "    # magnitude limiting cut.\n",
    "    start_cut = [\n",
    "        GCRQuery('%s < %.1f' % (mag_name, mag_lim)),\n",
    "        GCRQuery('redshift > %.2f' % np.min(z_bin_mins)),\n",
    "        GCRQuery('redshift <= %.2f' % np.max(z_bin_maxes)),\n",
    "        GCRQuery('mag_r_lsst >= 19.5')\n",
    "    ]\n",
    "    if not_columns is not None:\n",
    "        for not_column in not_columns:\n",
    "            start_cut.append(GCRQuery('%s' % not_column))\n",
    "\n",
    "    data = catalog.get_quantities(columns, filters=start_cut)\n",
    "    \n",
    "    #Initialize data output dict.\n",
    "    output = {\"z_min\": z_bin_mins,\n",
    "              \"z_max\": z_bin_maxes,\n",
    "              \"n_goal\": goal_number_densities,\n",
    "              \"mag_lim\": mag_lim,\n",
    "              selection: np.full(len(z_bin_maxes), 10 ** 30),\n",
    "              \"mag_name\": mag_name}\n",
    "        \n",
    "    for bin_idx, (z_min, z_max, n_goal) in enumerate(\n",
    "            zip(z_bin_mins, z_bin_maxes, goal_number_densities)):\n",
    "        \n",
    "        if n_goal <= 0:\n",
    "            continue\n",
    "\n",
    "        mask = np.logical_and(data['redshift'] > z_min,\n",
    "                              data['redshift'] <= z_max)\n",
    "        \n",
    "        #If an input dict has been provided, select on totalStarFormationRate\n",
    "        #as defined by the dictionary. This allows for the removal of objects\n",
    "        #previously selected from a sample making each selection a set of\n",
    "        #independent objects.\n",
    "        stellar_array = data[selection][mask]\n",
    "\n",
    "        if len(stellar_array) == 0:\n",
    "            continue\n",
    "        elif len(stellar_array) < n_goal:\n",
    "            n_goal = len(stellar_array)\n",
    "        stellar_array.sort()\n",
    "        \n",
    "        output[selection][bin_idx] = stellar_array[-np.int(np.ceil(n_goal))]\n",
    "            \n",
    "    return output"
   ]
  },
  {
   "cell_type": "code",
   "execution_count": 9,
   "metadata": {},
   "outputs": [
    {
     "name": "stdout",
     "output_type": "stream",
     "text": [
      "[<GCR.query.GCRQuery object at 0x2aaae5490c88>, <GCR.query.GCRQuery object at 0x2aaae5490cf8>, <GCR.query.GCRQuery object at 0x2aaae54908d0>, <GCR.query.GCRQuery object at 0x2aaae5490908>]\n"
     ]
    }
   ],
   "source": [
    "qso_dict = create_redshift_stellar_prop_selection(\n",
    "    bin_edges[:-1],\n",
    "    bin_edges[1:],\n",
    "    QSO_density * catalog.sky_area,\n",
    "    selection='qsoness',\n",
    "    mag_name=\"mag_r_lsst\",\n",
    "    mag_lim=23.4)"
   ]
  },
  {
   "cell_type": "code",
   "execution_count": 10,
   "metadata": {},
   "outputs": [],
   "source": [
    "def not_qsoselection(redshift, mag, mag_r, qsoness):\n",
    "    \"\"\"\n",
    "    \"\"\"\n",
    "    mask =  mag_r > 19.5\n",
    "    mask = np.logical_and(mag < qso_dict['mag_lim'], mask)\n",
    "    \n",
    "    z_min = qso_dict['z_min'].min()\n",
    "    z_max = qso_dict['z_min'].max()\n",
    "    mask = np.logical_and(mask, redshift > z_min)\n",
    "    mask = np.logical_and(mask, redshift < z_max)\n",
    "    \n",
    "    z_bin_idxes = np.searchsorted(qso_dict['z_min'], redshift) - 1\n",
    "    \n",
    "    min_qsoness = qso_dict['qsoness'][z_bin_idxes]\n",
    "    mask = np.logical_and(qsoness > min_qsoness, mask)\n",
    "    \n",
    "    return np.logical_not(mask)"
   ]
  },
  {
   "cell_type": "code",
   "execution_count": 11,
   "metadata": {},
   "outputs": [],
   "source": [
    "catalog.add_derived_quantity('not_qsoselection',\n",
    "                             not_qsoselection,\n",
    "                             'redshift', 'mag_r_lsst', 'mag_r_lsst', 'qsoness')"
   ]
  },
  {
   "cell_type": "code",
   "execution_count": 12,
   "metadata": {},
   "outputs": [
    {
     "name": "stdout",
     "output_type": "stream",
     "text": [
      "[<GCR.query.GCRQuery object at 0x2aaae54909e8>, <GCR.query.GCRQuery object at 0x2aaae5490668>, <GCR.query.GCRQuery object at 0x2aaae54900f0>, <GCR.query.GCRQuery object at 0x2aaae54906d8>, <GCR.query.GCRQuery object at 0x2aaae5490a20>]\n"
     ]
    }
   ],
   "source": [
    "elg_dict = create_redshift_stellar_prop_selection(\n",
    "    bin_edges[:-1],\n",
    "    bin_edges[1:],\n",
    "    ELG_density * catalog.sky_area,\n",
    "    not_columns=['not_qsoselection'],\n",
    "    selection='totalStarFormationRate',\n",
    "    mag_name=\"mag_r_lsst\",\n",
    "    mag_lim=23.4)"
   ]
  },
  {
   "cell_type": "code",
   "execution_count": 13,
   "metadata": {},
   "outputs": [],
   "source": [
    "def not_elgselection(redshift, mag, mag_r, sfr, not_qso):\n",
    "    \"\"\"\n",
    "    \"\"\"\n",
    "    mask =  mag_r > 19.5\n",
    "    mask = np.logical_and(mag < elg_dict['mag_lim'], mask)\n",
    "    mask = np.logical_and(not_qso, mask)\n",
    "    \n",
    "    z_min = elg_dict['z_min'].min()\n",
    "    z_max = elg_dict['z_min'].max()\n",
    "    mask = np.logical_and(mask, redshift > z_min)\n",
    "    mask = np.logical_and(mask, redshift < z_max)\n",
    "    \n",
    "    z_bin_idxes = np.searchsorted(elg_dict['z_min'], redshift) - 1\n",
    "    \n",
    "    min_sfr = elg_dict['totalStarFormationRate'][z_bin_idxes]\n",
    "    mask = np.logical_and(sfr > min_sfr, mask)\n",
    "    \n",
    "    return np.logical_not(mask)"
   ]
  },
  {
   "cell_type": "code",
   "execution_count": 14,
   "metadata": {},
   "outputs": [],
   "source": [
    "catalog.del_quantity_modifier('not_elgselection')"
   ]
  },
  {
   "cell_type": "code",
   "execution_count": 15,
   "metadata": {},
   "outputs": [],
   "source": [
    "catalog.add_derived_quantity('not_elgselection',\n",
    "                             not_elgselection,\n",
    "                             'redshift',\n",
    "                             'mag_r_lsst',\n",
    "                             'mag_r_lsst',\n",
    "                             'totalStarFormationRate',\n",
    "                             'not_qsoselection')"
   ]
  },
  {
   "cell_type": "code",
   "execution_count": 16,
   "metadata": {},
   "outputs": [
    {
     "name": "stdout",
     "output_type": "stream",
     "text": [
      "[<GCR.query.GCRQuery object at 0x2aaae5490240>, <GCR.query.GCRQuery object at 0x2aaae5490080>, <GCR.query.GCRQuery object at 0x2aaae5490c88>, <GCR.query.GCRQuery object at 0x2aaae5490550>, <GCR.query.GCRQuery object at 0x2aaae54909e8>, <GCR.query.GCRQuery object at 0x2aaae54900f0>]\n"
     ]
    }
   ],
   "source": [
    "lrg_dict = create_redshift_stellar_prop_selection(\n",
    "    lrg_smoothed_bin_edges[:-1],\n",
    "    lrg_smoothed_bin_edges[1:],\n",
    "    lrg_smoothed_densities * catalog.sky_area,\n",
    "    not_columns=['not_qsoselection', 'not_elgselection'],\n",
    "    selection='stellar_mass',\n",
    "    mag_name=\"mag_z_lsst\",\n",
    "    mag_lim=23.0)"
   ]
  },
  {
   "cell_type": "code",
   "execution_count": 21,
   "metadata": {},
   "outputs": [],
   "source": [
    "def not_lrgselection(redshift, mag, mag_r, stm, not_qso, not_elg):\n",
    "    \"\"\"\n",
    "    \"\"\"\n",
    "    mask =  mag_r > 19.5\n",
    "    mask = np.logical_and(mag < lrg_dict['mag_lim'], mask)\n",
    "    mask = np.logical_and(not_qso, mask)\n",
    "    mask = np.logical_and(not_elg, mask)\n",
    "    \n",
    "    z_min = lrg_dict['z_min'].min()\n",
    "    z_max = lrg_dict['z_min'].max()\n",
    "    mask = np.logical_and(mask, redshift > z_min)\n",
    "    mask = np.logical_and(mask, redshift < z_max)\n",
    "    \n",
    "    z_bin_idxes = np.searchsorted(lrg_dict['z_min'], redshift) - 1\n",
    "    \n",
    "    min_stm = lrg_dict['stellar_mass'][z_bin_idxes]\n",
    "    mask = np.logical_and(stm > min_stm, mask)\n",
    "    \n",
    "    return np.logical_not(mask)"
   ]
  },
  {
   "cell_type": "code",
   "execution_count": 28,
   "metadata": {},
   "outputs": [],
   "source": [
    "catalog.del_quantity_modifier('not_lrgselection')"
   ]
  },
  {
   "cell_type": "code",
   "execution_count": 29,
   "metadata": {},
   "outputs": [],
   "source": [
    "catalog.add_derived_quantity('not_lrgselection',\n",
    "                             not_lrgselection,\n",
    "                             'redshift',\n",
    "                             'mag_z_lsst',\n",
    "                             'mag_r_lsst',\n",
    "                             'stellar_mass',\n",
    "                             'not_qsoselection',\n",
    "                             'not_elgselection')"
   ]
  },
  {
   "cell_type": "code",
   "execution_count": 56,
   "metadata": {},
   "outputs": [],
   "source": [
    "def magnitude_limit(mag):\n",
    "    return mag < 19.5\n",
    "\n",
    "catalog.add_derived_quantity('mag_limit',\n",
    "                             magnitude_limit,\n",
    "                             'mag_r_lsst')"
   ]
  },
  {
   "cell_type": "code",
   "execution_count": 60,
   "metadata": {},
   "outputs": [],
   "source": [
    "pzCalib_iter = catalog.get_quantities(['not_qsoselection', 'not_elgselection',\n",
    "                                       'not_lrgselection', 'mag_limit'],\n",
    "                                      return_iterator=True)"
   ]
  },
  {
   "cell_type": "code",
   "execution_count": 68,
   "metadata": {},
   "outputs": [
    {
     "name": "stdout",
     "output_type": "stream",
     "text": [
      "0 10070\n",
      "0 10071\n",
      "0 10072\n",
      "0 10198\n",
      "0 10199\n",
      "0 10200\n",
      "0 10326\n",
      "0 10327\n",
      "0 10450\n",
      "0 9559\n",
      "0 9686\n",
      "0 9687\n",
      "0 9814\n",
      "0 9815\n",
      "0 9816\n",
      "0 9942\n",
      "0 9943\n",
      "1 10070\n",
      "1 10071\n",
      "1 10072\n",
      "1 10198\n",
      "1 10199\n",
      "1 10200\n",
      "1 10326\n",
      "1 10327\n",
      "1 10450\n",
      "1 9559\n",
      "1 9686\n",
      "1 9687\n",
      "1 9814\n",
      "1 9815\n",
      "1 9816\n",
      "1 9942\n",
      "1 9943\n",
      "2 10070\n",
      "2 10071\n",
      "2 10072\n",
      "2 10198\n",
      "2 10199\n",
      "2 10200\n",
      "2 10326\n",
      "2 10327\n",
      "2 10450\n",
      "2 9559\n",
      "2 9686\n",
      "2 9687\n",
      "2 9814\n",
      "2 9815\n",
      "2 9816\n",
      "2 9942\n"
     ]
    }
   ],
   "source": [
    "for data, (zlo, hpx) in zip(pzCalib_iter, catalog._healpix_files):\n",
    "    mask = np.logical_not(data['not_qsoselection'])\n",
    "    np.save('/global/projecta/projectdirs/lsst/groups/PZ/PhotoZDC2/COSMODC2v1.1.4/'\n",
    "            'PZCalibrateSample_cosmoDC2v1.1.4_small/pzCalibrateQSO_z%i_healpix%i.npy' % (zlo, hpx),\n",
    "            np.logical_not(data['not_qsoselection']))\n",
    "    \n",
    "    mask = np.logical_or(mask, np.logical_not(data['not_elgselection']))\n",
    "    np.save('/global/projecta/projectdirs/lsst/groups/PZ/PhotoZDC2/COSMODC2v1.1.4/'\n",
    "            'PZCalibrateSample_cosmoDC2v1.1.4_small/pzCalibrateELG_z%i_healpix%i.npy'  % (zlo, hpx),\n",
    "            np.logical_not(data['not_elgselection']))\n",
    "\n",
    "    mask = np.logical_or(mask, np.logical_not(data['not_lrgselection']))\n",
    "    np.save('/global/projecta/projectdirs/lsst/groups/PZ/PhotoZDC2/COSMODC2v1.1.4/'\n",
    "            'PZCalibrateSample_cosmoDC2v1.1.4_small/pzCalibrateLRG_z%i_healpix%i.npy'  % (zlo, hpx),\n",
    "            np.logical_not(data['not_lrgselection']))\n",
    "\n",
    "    mask = np.logical_or(mask, data['mag_limit'])\n",
    "    np.save('/global/projecta/projectdirs/lsst/groups/PZ/PhotoZDC2/COSMODC2v1.1.4/'\n",
    "            'PZCalibrateSample_cosmoDC2v1.1.4_small/pzCalibrateMagLim_z%i_healpix%i.npy'  % (zlo, hpx),\n",
    "            data['mag_limit'])\n",
    "\n",
    "    np.save('/global/projecta/projectdirs/lsst/groups/PZ/PhotoZDC2/COSMODC2v1.1.4/'\n",
    "            'PZCalibrateSample_cosmoDC2v1.1.4_small/pzCalibrateRef_z%i_healpix%i.npy'  % (zlo, hpx),\n",
    "            mask)"
   ]
  }
 ],
 "metadata": {
  "kernelspec": {
   "display_name": "desc-python-dev",
   "language": "python",
   "name": "desc-python-dev"
  },
  "language_info": {
   "codemirror_mode": {
    "name": "ipython",
    "version": 3
   },
   "file_extension": ".py",
   "mimetype": "text/x-python",
   "name": "python",
   "nbconvert_exporter": "python",
   "pygments_lexer": "ipython3",
   "version": "3.6.6"
  }
 },
 "nbformat": 4,
 "nbformat_minor": 2
}
